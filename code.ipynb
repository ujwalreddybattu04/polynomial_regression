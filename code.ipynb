{
 "cells": [
  {
   "cell_type": "code",
   "execution_count": 2,
   "metadata": {},
   "outputs": [],
   "source": [
    "import numpy as np\n",
    "import pandas as pd\n",
    "import matplotlib.pyplot as plt\n",
    "import seaborn as sns"
   ]
  },
  {
   "cell_type": "code",
   "execution_count": 6,
   "metadata": {},
   "outputs": [
    {
     "data": {
      "text/plain": [
       "<matplotlib.collections.PathCollection at 0x24be33b7610>"
      ]
     },
     "execution_count": 6,
     "metadata": {},
     "output_type": "execute_result"
    },
    {
     "data": {
      "image/png": "[encoded data removed]",
      "text/plain": [
       "<Figure size 640x480 with 1 Axes>"
      ]
     },
     "metadata": {},
     "output_type": "display_data"
    }
   ],
   "source": [
    "x=6*np.random.rand(100,1)-3\n",
    "y=0.5*x**2 +1.5*x+2 + np.random.randn(100,1)\n",
    "\"\"\" this is my quadratic equation\"\"\"\n",
    "plt.scatter(x,y,color='r')"
   ]
  },
  {
   "cell_type": "code",
   "execution_count": 8,
   "metadata": {},
   "outputs": [],
   "source": [
    "from sklearn.model_selection import train_test_split\n",
    "X_train,X_test,y_train,y_test=train_test_split(x,y,test_size=0.2,random_state=42)"
   ]
  },
  {
   "cell_type": "code",
   "execution_count": 10,
   "metadata": {},
   "outputs": [
    {
     "data": {
      "text/html": [
       "<style>#sk-container-id-1 {color: black;background-color: white;}#sk-container-id-1 pre{padding: 0;}#sk-container-id-1 div.sk-toggleable {background-color: white;}#sk-container-id-1 label.sk-toggleable__label {cursor: pointer;display: block;width: 100%;margin-bottom: 0;padding: 0.3em;box-sizing: border-box;text-align: center;}#sk-container-id-1 label.sk-toggleable__label-arrow:before {content: \"▸\";float: left;margin-right: 0.25em;color: #696969;}#sk-container-id-1 label.sk-toggleable__label-arrow:hover:before {color: black;}#sk-container-id-1 div.sk-estimator:hover label.sk-toggleable__label-arrow:before {color: black;}#sk-container-id-1 div.sk-toggleable__content {max-height: 0;max-width: 0;overflow: hidden;text-align: left;background-color: #f0f8ff;}#sk-container-id-1 div.sk-toggleable__content pre {margin: 0.2em;color: black;border-radius: 0.25em;background-color: #f0f8ff;}#sk-container-id-1 input.sk-toggleable__control:checked~div.sk-toggleable__content {max-height: 200px;max-width: 100%;overflow: auto;}#sk-container-id-1 input.sk-toggleable__control:checked~label.sk-toggleable__label-arrow:before {content: \"▾\";}#sk-container-id-1 div.sk-estimator input.sk-toggleable__control:checked~label.sk-toggleable__label {background-color: #d4ebff;}#sk-container-id-1 div.sk-label input.sk-toggleable__control:checked~label.sk-toggleable__label {background-color: #d4ebff;}#sk-container-id-1 input.sk-hidden--visually {border: 0;clip: rect(1px 1px 1px 1px);clip: rect(1px, 1px, 1px, 1px);height: 1px;margin: -1px;overflow: hidden;padding: 0;position: absolute;width: 1px;}#sk-container-id-1 div.sk-estimator {font-family: monospace;background-color: #f0f8ff;border: 1px dotted black;border-radius: 0.25em;box-sizing: border-box;margin-bottom: 0.5em;}#sk-container-id-1 div.sk-estimator:hover {background-color: #d4ebff;}#sk-container-id-1 div.sk-parallel-item::after {content: \"\";width: 100%;border-bottom: 1px solid gray;flex-grow: 1;}#sk-container-id-1 div.sk-label:hover label.sk-toggleable__label {background-color: #d4ebff;}#sk-container-id-1 div.sk-serial::before {content: \"\";position: absolute;border-left: 1px solid gray;box-sizing: border-box;top: 0;bottom: 0;left: 50%;z-index: 0;}#sk-container-id-1 div.sk-serial {display: flex;flex-direction: column;align-items: center;background-color: white;padding-right: 0.2em;padding-left: 0.2em;position: relative;}#sk-container-id-1 div.sk-item {position: relative;z-index: 1;}#sk-container-id-1 div.sk-parallel {display: flex;align-items: stretch;justify-content: center;background-color: white;position: relative;}#sk-container-id-1 div.sk-item::before, #sk-container-id-1 div.sk-parallel-item::before {content: \"\";position: absolute;border-left: 1px solid gray;box-sizing: border-box;top: 0;bottom: 0;left: 50%;z-index: -1;}#sk-container-id-1 div.sk-parallel-item {display: flex;flex-direction: column;z-index: 1;position: relative;background-color: white;}#sk-container-id-1 div.sk-parallel-item:first-child::after {align-self: flex-end;width: 50%;}#sk-container-id-1 div.sk-parallel-item:last-child::after {align-self: flex-start;width: 50%;}#sk-container-id-1 div.sk-parallel-item:only-child::after {width: 0;}#sk-container-id-1 div.sk-dashed-wrapped {border: 1px dashed gray;margin: 0 0.4em 0.5em 0.4em;box-sizing: border-box;padding-bottom: 0.4em;background-color: white;}#sk-container-id-1 div.sk-label label {font-family: monospace;font-weight: bold;display: inline-block;line-height: 1.2em;}#sk-container-id-1 div.sk-label-container {text-align: center;}#sk-container-id-1 div.sk-container {/* jupyter's `normalize.less` sets `[hidden] { display: none; }` but bootstrap.min.css set `[hidden] { display: none !important; }` so we also need the `!important` here to be able to override the default hidden behavior on the sphinx rendered scikit-learn.org. See: https://github.com/scikit-learn/scikit-learn/issues/21755 */display: inline-block !important;position: relative;}#sk-container-id-1 div.sk-text-repr-fallback {display: none;}</style><div id=\"sk-container-id-1\" class=\"sk-top-container\"><div class=\"sk-text-repr-fallback\"><pre>LinearRegression()</pre><b>In a Jupyter environment, please rerun this cell to show the HTML representation or trust the notebook. <br />On GitHub, the HTML representation is unable to render, please try loading this page with nbviewer.org.</b></div><div class=\"sk-container\" hidden><div class=\"sk-item\"><div class=\"sk-estimator sk-toggleable\"><input class=\"sk-toggleable__control sk-hidden--visually\" id=\"sk-estimator-id-1\" type=\"checkbox\" checked><label for=\"sk-estimator-id-1\" class=\"sk-toggleable__label sk-toggleable__label-arrow\">LinearRegression</label><div class=\"sk-toggleable__content\"><pre>LinearRegression()</pre></div></div></div></div></div>"
      ],
      "text/plain": [
       "LinearRegression()"
      ]
     },
     "execution_count": 10,
     "metadata": {},
     "output_type": "execute_result"
    }
   ],
   "source": [
    "\"\"\"lets implement linear regression\"\"\"\n",
    "from sklearn.linear_model import LinearRegression\n",
    "regression=LinearRegression()\n",
    "regression.fit(X_train,y_train)"
   ]
  },
  {
   "cell_type": "code",
   "execution_count": 11,
   "metadata": {},
   "outputs": [
    {
     "data": {
      "text/plain": [
       "array([[ 2.64653008],\n",
       "       [ 0.56096239],\n",
       "       [-0.71076536],\n",
       "       [ 1.61174953],\n",
       "       [-1.21917525],\n",
       "       [-2.25738852],\n",
       "       [-1.14405877],\n",
       "       [-2.7965074 ],\n",
       "       [-2.37194114],\n",
       "       [ 0.31623775],\n",
       "       [ 1.42546025],\n",
       "       [-0.20996392],\n",
       "       [ 1.78990144],\n",
       "       [-2.82552133],\n",
       "       [-1.75414661],\n",
       "       [ 1.62678833],\n",
       "       [ 1.75678618],\n",
       "       [-2.59404454],\n",
       "       [-0.08594625],\n",
       "       [-2.61845149],\n",
       "       [-2.9326225 ],\n",
       "       [ 0.22806888],\n",
       "       [ 0.1894395 ],\n",
       "       [ 0.20890859],\n",
       "       [ 2.48601938],\n",
       "       [-0.75214895],\n",
       "       [ 1.23708268],\n",
       "       [-1.50513743],\n",
       "       [-1.93493009],\n",
       "       [-1.04855571],\n",
       "       [-1.34529908],\n",
       "       [-2.45618522],\n",
       "       [-0.49556425],\n",
       "       [-0.11377104],\n",
       "       [ 0.11453794],\n",
       "       [ 2.64110295],\n",
       "       [ 0.94969771],\n",
       "       [ 1.10354185],\n",
       "       [ 0.81931584],\n",
       "       [-2.99429366],\n",
       "       [ 0.76064812],\n",
       "       [-1.87954379],\n",
       "       [ 0.62518937],\n",
       "       [-1.26223242],\n",
       "       [ 2.83083962],\n",
       "       [-0.09300186],\n",
       "       [ 2.5275363 ],\n",
       "       [-0.53456139],\n",
       "       [ 1.59471347],\n",
       "       [-0.71933767],\n",
       "       [-2.05552396],\n",
       "       [-0.23552838],\n",
       "       [-0.60791485],\n",
       "       [ 2.87352007],\n",
       "       [-1.73691388],\n",
       "       [ 2.46707735],\n",
       "       [-0.1572888 ],\n",
       "       [ 2.97068731],\n",
       "       [ 2.64447925],\n",
       "       [-1.14068263],\n",
       "       [ 0.34235615],\n",
       "       [-2.06626693],\n",
       "       [-0.28347535],\n",
       "       [-2.56568086],\n",
       "       [ 1.97263415],\n",
       "       [ 1.44384586],\n",
       "       [-0.16928959],\n",
       "       [-0.79474033],\n",
       "       [-0.75418575],\n",
       "       [ 2.70829125],\n",
       "       [ 0.09787262],\n",
       "       [-0.54481241],\n",
       "       [-1.08980727],\n",
       "       [-0.24878701],\n",
       "       [-2.92830665],\n",
       "       [ 0.34050883],\n",
       "       [-0.87643287],\n",
       "       [-1.65095709],\n",
       "       [-0.08144858],\n",
       "       [ 0.19865119]])"
      ]
     },
     "execution_count": 11,
     "metadata": {},
     "output_type": "execute_result"
    }
   ],
   "source": [
    "X_train"
   ]
  },
  {
   "cell_type": "code",
   "execution_count": 13,
   "metadata": {},
   "outputs": [
    {
     "data": {
      "text/plain": [
       "array([[ 8.07734245],\n",
       "       [ 2.71193043],\n",
       "       [ 2.66674222],\n",
       "       [ 4.75178692],\n",
       "       [ 0.6928358 ],\n",
       "       [-0.39826329],\n",
       "       [ 1.54897501],\n",
       "       [ 2.63235256],\n",
       "       [ 3.20411911],\n",
       "       [ 1.85991787],\n",
       "       [ 5.16578883],\n",
       "       [ 1.9876966 ],\n",
       "       [ 7.25623415],\n",
       "       [ 3.37409058],\n",
       "       [ 1.65310983],\n",
       "       [ 6.40242378],\n",
       "       [ 4.59331451],\n",
       "       [ 1.20980844],\n",
       "       [ 2.76618808],\n",
       "       [ 1.72907553],\n",
       "       [-0.06884397],\n",
       "       [ 4.17700619],\n",
       "       [ 2.95656264],\n",
       "       [ 3.02956011],\n",
       "       [ 8.50659916],\n",
       "       [ 1.9127719 ],\n",
       "       [ 4.93169674],\n",
       "       [ 0.32511277],\n",
       "       [-0.55867134],\n",
       "       [ 1.02629021],\n",
       "       [ 1.0778476 ],\n",
       "       [ 2.28227803],\n",
       "       [ 2.78230741],\n",
       "       [ 2.01136268],\n",
       "       [ 0.61260385],\n",
       "       [10.56321156],\n",
       "       [ 4.61817544],\n",
       "       [ 4.7812376 ],\n",
       "       [ 5.62600628],\n",
       "       [ 1.75830365],\n",
       "       [ 3.33354305],\n",
       "       [ 2.18989245],\n",
       "       [ 3.22749188],\n",
       "       [-0.40780776],\n",
       "       [ 9.44015768],\n",
       "       [ 3.36276287],\n",
       "       [ 7.80445331],\n",
       "       [ 0.31516681],\n",
       "       [ 5.31179951],\n",
       "       [ 2.25460872],\n",
       "       [ 0.37513211],\n",
       "       [ 0.78063763],\n",
       "       [ 0.78630509],\n",
       "       [11.0875436 ],\n",
       "       [ 1.53006412],\n",
       "       [ 7.67802282],\n",
       "       [ 1.57516036],\n",
       "       [11.26537343],\n",
       "       [10.80251759],\n",
       "       [ 1.47409583],\n",
       "       [ 2.02476847],\n",
       "       [ 0.49565843],\n",
       "       [ 1.80140872],\n",
       "       [ 1.8724711 ],\n",
       "       [ 6.60937411],\n",
       "       [ 5.40399643],\n",
       "       [ 1.35484757],\n",
       "       [ 1.58411811],\n",
       "       [-0.71622325],\n",
       "       [ 9.64084679],\n",
       "       [ 1.71624134],\n",
       "       [ 1.3338534 ],\n",
       "       [ 0.7296734 ],\n",
       "       [ 0.97346124],\n",
       "       [ 0.93742404],\n",
       "       [ 3.12037651],\n",
       "       [ 1.21517209],\n",
       "       [ 0.42668425],\n",
       "       [ 2.01926588],\n",
       "       [ 2.19504517]])"
      ]
     },
     "execution_count": 13,
     "metadata": {},
     "output_type": "execute_result"
    }
   ],
   "source": [
    "y_train"
   ]
  },
  {
   "cell_type": "code",
   "execution_count": 15,
   "metadata": {},
   "outputs": [
    {
     "name": "stdout",
     "output_type": "stream",
     "text": [
      "0.7010523130797797\n"
     ]
    }
   ],
   "source": [
    "from sklearn.metrics import r2_score\n",
    "score=r2_score(y_test,regression.predict(X_test))\n",
    "print(score)\n"
   ]
  },
  {
   "cell_type": "code",
   "execution_count": 17,
   "metadata": {},
   "outputs": [
    {
     "data": {
      "text/plain": [
       "<matplotlib.collections.PathCollection at 0x24be33a09d0>"
      ]
     },
     "execution_count": 17,
     "metadata": {},
     "output_type": "execute_result"
    },
    {
     "data": {
      "image/png": "[encoded data removed]",
      "text/plain": [
       "<Figure size 640x480 with 1 Axes>"
      ]
     },
     "metadata": {},
     "output_type": "display_data"
    }
   ],
   "source": [
    "plt.plot(X_train,regression.predict(X_train))\n",
    "plt.scatter(X_train,y_train)"
   ]
  },
  {
   "cell_type": "code",
   "execution_count": 25,
   "metadata": {},
   "outputs": [],
   "source": [
    "\"\"\" let apply polynomail regreion\"\"\"\n",
    "from sklearn.preprocessing import PolynomialFeatures\n",
    "poly=PolynomialFeatures(degree=2,include_bias=True)\n",
    "X_train_poly=poly.fit_transform(X_train)\n",
    "X_test_poly=poly.transform(X_test)"
   ]
  },
  {
   "cell_type": "code",
   "execution_count": 26,
   "metadata": {},
   "outputs": [
    {
     "data": {
      "text/plain": [
       "array([[ 1.00000000e+00,  2.64653008e+00,  7.00412147e+00],\n",
       "       [ 1.00000000e+00,  5.60962385e-01,  3.14678798e-01],\n",
       "       [ 1.00000000e+00, -7.10765365e-01,  5.05187404e-01],\n",
       "       [ 1.00000000e+00,  1.61174953e+00,  2.59773655e+00],\n",
       "       [ 1.00000000e+00, -1.21917525e+00,  1.48638830e+00],\n",
       "       [ 1.00000000e+00, -2.25738852e+00,  5.09580293e+00],\n",
       "       [ 1.00000000e+00, -1.14405877e+00,  1.30887047e+00],\n",
       "       [ 1.00000000e+00, -2.79650740e+00,  7.82045363e+00],\n",
       "       [ 1.00000000e+00, -2.37194114e+00,  5.62610475e+00],\n",
       "       [ 1.00000000e+00,  3.16237754e-01,  1.00006317e-01],\n",
       "       [ 1.00000000e+00,  1.42546025e+00,  2.03193691e+00],\n",
       "       [ 1.00000000e+00, -2.09963923e-01,  4.40848491e-02],\n",
       "       [ 1.00000000e+00,  1.78990144e+00,  3.20374715e+00],\n",
       "       [ 1.00000000e+00, -2.82552133e+00,  7.98357079e+00],\n",
       "       [ 1.00000000e+00, -1.75414661e+00,  3.07703032e+00],\n",
       "       [ 1.00000000e+00,  1.62678833e+00,  2.64644027e+00],\n",
       "       [ 1.00000000e+00,  1.75678618e+00,  3.08629767e+00],\n",
       "       [ 1.00000000e+00, -2.59404454e+00,  6.72906709e+00],\n",
       "       [ 1.00000000e+00, -8.59462451e-02,  7.38675705e-03],\n",
       "       [ 1.00000000e+00, -2.61845149e+00,  6.85628822e+00],\n",
       "       [ 1.00000000e+00, -2.93262250e+00,  8.60027473e+00],\n",
       "       [ 1.00000000e+00,  2.28068881e-01,  5.20154146e-02],\n",
       "       [ 1.00000000e+00,  1.89439503e-01,  3.58873252e-02],\n",
       "       [ 1.00000000e+00,  2.08908593e-01,  4.36428001e-02],\n",
       "       [ 1.00000000e+00,  2.48601938e+00,  6.18029234e+00],\n",
       "       [ 1.00000000e+00, -7.52148954e-01,  5.65728049e-01],\n",
       "       [ 1.00000000e+00,  1.23708268e+00,  1.53037355e+00],\n",
       "       [ 1.00000000e+00, -1.50513743e+00,  2.26543868e+00],\n",
       "       [ 1.00000000e+00, -1.93493009e+00,  3.74395444e+00],\n",
       "       [ 1.00000000e+00, -1.04855571e+00,  1.09946908e+00],\n",
       "       [ 1.00000000e+00, -1.34529908e+00,  1.80982961e+00],\n",
       "       [ 1.00000000e+00, -2.45618522e+00,  6.03284584e+00],\n",
       "       [ 1.00000000e+00, -4.95564250e-01,  2.45583926e-01],\n",
       "       [ 1.00000000e+00, -1.13771035e-01,  1.29438484e-02],\n",
       "       [ 1.00000000e+00,  1.14537941e-01,  1.31189399e-02],\n",
       "       [ 1.00000000e+00,  2.64110295e+00,  6.97542481e+00],\n",
       "       [ 1.00000000e+00,  9.49697709e-01,  9.01925738e-01],\n",
       "       [ 1.00000000e+00,  1.10354185e+00,  1.21780461e+00],\n",
       "       [ 1.00000000e+00,  8.19315844e-01,  6.71278452e-01],\n",
       "       [ 1.00000000e+00, -2.99429366e+00,  8.96579455e+00],\n",
       "       [ 1.00000000e+00,  7.60648115e-01,  5.78585555e-01],\n",
       "       [ 1.00000000e+00, -1.87954379e+00,  3.53268487e+00],\n",
       "       [ 1.00000000e+00,  6.25189367e-01,  3.90861744e-01],\n",
       "       [ 1.00000000e+00, -1.26223242e+00,  1.59323068e+00],\n",
       "       [ 1.00000000e+00,  2.83083962e+00,  8.01365295e+00],\n",
       "       [ 1.00000000e+00, -9.30018645e-02,  8.64934679e-03],\n",
       "       [ 1.00000000e+00,  2.52753630e+00,  6.38843977e+00],\n",
       "       [ 1.00000000e+00, -5.34561387e-01,  2.85755876e-01],\n",
       "       [ 1.00000000e+00,  1.59471347e+00,  2.54311104e+00],\n",
       "       [ 1.00000000e+00, -7.19337670e-01,  5.17446683e-01],\n",
       "       [ 1.00000000e+00, -2.05552396e+00,  4.22517874e+00],\n",
       "       [ 1.00000000e+00, -2.35528376e-01,  5.54736157e-02],\n",
       "       [ 1.00000000e+00, -6.07914850e-01,  3.69560465e-01],\n",
       "       [ 1.00000000e+00,  2.87352007e+00,  8.25711761e+00],\n",
       "       [ 1.00000000e+00, -1.73691388e+00,  3.01686982e+00],\n",
       "       [ 1.00000000e+00,  2.46707735e+00,  6.08647065e+00],\n",
       "       [ 1.00000000e+00, -1.57288796e-01,  2.47397652e-02],\n",
       "       [ 1.00000000e+00,  2.97068731e+00,  8.82498307e+00],\n",
       "       [ 1.00000000e+00,  2.64447925e+00,  6.99327048e+00],\n",
       "       [ 1.00000000e+00, -1.14068263e+00,  1.30115687e+00],\n",
       "       [ 1.00000000e+00,  3.42356151e-01,  1.17207734e-01],\n",
       "       [ 1.00000000e+00, -2.06626693e+00,  4.26945902e+00],\n",
       "       [ 1.00000000e+00, -2.83475354e-01,  8.03582766e-02],\n",
       "       [ 1.00000000e+00, -2.56568086e+00,  6.58271825e+00],\n",
       "       [ 1.00000000e+00,  1.97263415e+00,  3.89128547e+00],\n",
       "       [ 1.00000000e+00,  1.44384586e+00,  2.08469088e+00],\n",
       "       [ 1.00000000e+00, -1.69289586e-01,  2.86589640e-02],\n",
       "       [ 1.00000000e+00, -7.94740326e-01,  6.31612186e-01],\n",
       "       [ 1.00000000e+00, -7.54185748e-01,  5.68796142e-01],\n",
       "       [ 1.00000000e+00,  2.70829125e+00,  7.33484149e+00],\n",
       "       [ 1.00000000e+00,  9.78726224e-02,  9.57905022e-03],\n",
       "       [ 1.00000000e+00, -5.44812412e-01,  2.96820564e-01],\n",
       "       [ 1.00000000e+00, -1.08980727e+00,  1.18767988e+00],\n",
       "       [ 1.00000000e+00, -2.48787006e-01,  6.18949742e-02],\n",
       "       [ 1.00000000e+00, -2.92830665e+00,  8.57497983e+00],\n",
       "       [ 1.00000000e+00,  3.40508831e-01,  1.15946264e-01],\n",
       "       [ 1.00000000e+00, -8.76432874e-01,  7.68134583e-01],\n",
       "       [ 1.00000000e+00, -1.65095709e+00,  2.72565933e+00],\n",
       "       [ 1.00000000e+00, -8.14485782e-02,  6.63387088e-03],\n",
       "       [ 1.00000000e+00,  1.98651188e-01,  3.94622946e-02]])"
      ]
     },
     "execution_count": 26,
     "metadata": {},
     "output_type": "execute_result"
    }
   ],
   "source": [
    "X_train_poly"
   ]
  },
  {
   "cell_type": "code",
   "execution_count": 28,
   "metadata": {},
   "outputs": [
    {
     "data": {
      "text/plain": [
       "array([[ 1.00000000e+00,  1.17940854e+00,  1.39100450e+00],\n",
       "       [ 1.00000000e+00, -1.83644990e+00,  3.37254822e+00],\n",
       "       [ 1.00000000e+00,  7.47915175e-01,  5.59377109e-01],\n",
       "       [ 1.00000000e+00, -7.03303074e-01,  4.94635214e-01],\n",
       "       [ 1.00000000e+00,  1.21819732e+00,  1.48400470e+00],\n",
       "       [ 1.00000000e+00, -7.90482396e-01,  6.24862418e-01],\n",
       "       [ 1.00000000e+00,  2.15208447e+00,  4.63146755e+00],\n",
       "       [ 1.00000000e+00,  6.05194364e-01,  3.66260219e-01],\n",
       "       [ 1.00000000e+00,  1.45528734e+00,  2.11786124e+00],\n",
       "       [ 1.00000000e+00, -2.89336953e+00,  8.37158721e+00],\n",
       "       [ 1.00000000e+00,  2.57696605e+00,  6.64075403e+00],\n",
       "       [ 1.00000000e+00, -8.65870808e-02,  7.49732257e-03],\n",
       "       [ 1.00000000e+00,  2.19684935e+00,  4.82614708e+00],\n",
       "       [ 1.00000000e+00,  2.13897105e+00,  4.57519717e+00],\n",
       "       [ 1.00000000e+00,  9.11055155e-01,  8.30021495e-01],\n",
       "       [ 1.00000000e+00, -2.51332830e+00,  6.31681915e+00],\n",
       "       [ 1.00000000e+00,  9.19991173e-01,  8.46383759e-01],\n",
       "       [ 1.00000000e+00,  2.27084792e+00,  5.15675028e+00],\n",
       "       [ 1.00000000e+00,  4.09764504e-01,  1.67906949e-01],\n",
       "       [ 1.00000000e+00,  2.36829733e+00,  5.60883224e+00]])"
      ]
     },
     "execution_count": 28,
     "metadata": {},
     "output_type": "execute_result"
    }
   ],
   "source": [
    "X_test_poly"
   ]
  },
  {
   "cell_type": "code",
   "execution_count": 29,
   "metadata": {},
   "outputs": [
    {
     "name": "stdout",
     "output_type": "stream",
     "text": [
      "0.9155375861920569\n"
     ]
    }
   ],
   "source": [
    "from sklearn.metrics import r2_score\n",
    "regression=LinearRegression()\n",
    "regression.fit(X_train_poly,y_train)\n",
    "y_pred=regression.predict(X_test_poly)\n",
    "score=r2_score(y_test,y_pred)\n",
    "print(score)"
   ]
  },
  {
   "cell_type": "code",
   "execution_count": 30,
   "metadata": {},
   "outputs": [
    {
     "data": {
      "text/plain": [
       "array([[0.        , 1.48889433, 0.47318154]])"
      ]
     },
     "execution_count": 30,
     "metadata": {},
     "output_type": "execute_result"
    }
   ],
   "source": [
    "regression.coef_"
   ]
  },
  {
   "cell_type": "code",
   "execution_count": 33,
   "metadata": {},
   "outputs": [
    {
     "data": {
      "text/plain": [
       "<matplotlib.collections.PathCollection at 0x24be6f03150>"
      ]
     },
     "execution_count": 33,
     "metadata": {},
     "output_type": "execute_result"
    },
    {
     "data": {
      "image/png": "[encoded data removed]",
      "text/plain": [
       "<Figure size 640x480 with 1 Axes>"
      ]
     },
     "metadata": {},
     "output_type": "display_data"
    }
   ],
   "source": [
    "plt.scatter(X_train,regression.predict(X_train_poly))\n",
    "plt.scatter(X_train,y_train)"
   ]
  }
 ],
 "metadata": {
  "kernelspec": {
   "display_name": "base",
   "language": "python",
   "name": "python3"
  },
  "language_info": {
   "codemirror_mode": {
    "name": "ipython",
    "version": 3
   },
   "file_extension": ".py",
   "mimetype": "text/x-python",
   "name": "python",
   "nbconvert_exporter": "python",
   "pygments_lexer": "ipython3",
   "version": "3.11.7"
  }
 },
 "nbformat": 4,
 "nbformat_minor": 2
}
